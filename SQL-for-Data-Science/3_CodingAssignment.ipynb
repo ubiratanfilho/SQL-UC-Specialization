{
 "cells": [
  {
   "cell_type": "markdown",
   "metadata": {},
   "source": [
    "## Dependencies"
   ]
  },
  {
   "cell_type": "code",
   "execution_count": 2,
   "metadata": {},
   "outputs": [],
   "source": [
    "import sqlite3\n",
    "import pandas as pd"
   ]
  },
  {
   "cell_type": "markdown",
   "metadata": {},
   "source": [
    "## Connecting to DB"
   ]
  },
  {
   "cell_type": "code",
   "execution_count": 3,
   "metadata": {},
   "outputs": [],
   "source": [
    "conn = sqlite3.connect('Chinook_SQLite.sqlite')\n",
    "cursor = conn.cursor()"
   ]
  },
  {
   "cell_type": "markdown",
   "metadata": {},
   "source": [
    "## Exercises"
   ]
  },
  {
   "cell_type": "code",
   "execution_count": 4,
   "metadata": {},
   "outputs": [],
   "source": [
    "def show_sql_query(command, nrows=10):\n",
    "    cursor.execute(command)\n",
    "    \n",
    "    out = pd.read_sql_query(command, conn)\n",
    "    display(out.head(nrows))\n",
    "    print(\"Shape:\", out.shape)"
   ]
  },
  {
   "cell_type": "markdown",
   "metadata": {},
   "source": [
    "Using a subquery, find the names of all the tracks for the album \"Californication\"."
   ]
  },
  {
   "cell_type": "code",
   "execution_count": 5,
   "metadata": {},
   "outputs": [
    {
     "data": {
      "text/html": [
       "<div>\n",
       "<style scoped>\n",
       "    .dataframe tbody tr th:only-of-type {\n",
       "        vertical-align: middle;\n",
       "    }\n",
       "\n",
       "    .dataframe tbody tr th {\n",
       "        vertical-align: top;\n",
       "    }\n",
       "\n",
       "    .dataframe thead th {\n",
       "        text-align: right;\n",
       "    }\n",
       "</style>\n",
       "<table border=\"1\" class=\"dataframe\">\n",
       "  <thead>\n",
       "    <tr style=\"text-align: right;\">\n",
       "      <th></th>\n",
       "      <th>Name</th>\n",
       "    </tr>\n",
       "  </thead>\n",
       "  <tbody>\n",
       "    <tr>\n",
       "      <th>0</th>\n",
       "      <td>Around The World</td>\n",
       "    </tr>\n",
       "    <tr>\n",
       "      <th>1</th>\n",
       "      <td>Parallel Universe</td>\n",
       "    </tr>\n",
       "    <tr>\n",
       "      <th>2</th>\n",
       "      <td>Scar Tissue</td>\n",
       "    </tr>\n",
       "    <tr>\n",
       "      <th>3</th>\n",
       "      <td>Otherside</td>\n",
       "    </tr>\n",
       "    <tr>\n",
       "      <th>4</th>\n",
       "      <td>Get On Top</td>\n",
       "    </tr>\n",
       "    <tr>\n",
       "      <th>5</th>\n",
       "      <td>Californication</td>\n",
       "    </tr>\n",
       "    <tr>\n",
       "      <th>6</th>\n",
       "      <td>Easily</td>\n",
       "    </tr>\n",
       "    <tr>\n",
       "      <th>7</th>\n",
       "      <td>Porcelain</td>\n",
       "    </tr>\n",
       "    <tr>\n",
       "      <th>8</th>\n",
       "      <td>Emit Remmus</td>\n",
       "    </tr>\n",
       "    <tr>\n",
       "      <th>9</th>\n",
       "      <td>I Like Dirt</td>\n",
       "    </tr>\n",
       "  </tbody>\n",
       "</table>\n",
       "</div>"
      ],
      "text/plain": [
       "                Name\n",
       "0   Around The World\n",
       "1  Parallel Universe\n",
       "2        Scar Tissue\n",
       "3          Otherside\n",
       "4         Get On Top\n",
       "5    Californication\n",
       "6             Easily\n",
       "7          Porcelain\n",
       "8        Emit Remmus\n",
       "9        I Like Dirt"
      ]
     },
     "metadata": {},
     "output_type": "display_data"
    },
    {
     "name": "stdout",
     "output_type": "stream",
     "text": [
      "Shape: (15, 1)\n"
     ]
    }
   ],
   "source": [
    "command = \"\"\"\n",
    "SELECT Name\n",
    "FROM Track\n",
    "WHERE AlbumId IN (SELECT AlbumId\n",
    "    FROM Album\n",
    "    WHERE Title = \"Californication\");\n",
    "\"\"\"\n",
    "\n",
    "show_sql_query(command)"
   ]
  },
  {
   "cell_type": "markdown",
   "metadata": {},
   "source": [
    "2. Find the total number of invoices for each customer along with the customer's full name, city and email."
   ]
  },
  {
   "cell_type": "code",
   "execution_count": 6,
   "metadata": {},
   "outputs": [
    {
     "data": {
      "text/html": [
       "<div>\n",
       "<style scoped>\n",
       "    .dataframe tbody tr th:only-of-type {\n",
       "        vertical-align: middle;\n",
       "    }\n",
       "\n",
       "    .dataframe tbody tr th {\n",
       "        vertical-align: top;\n",
       "    }\n",
       "\n",
       "    .dataframe thead th {\n",
       "        text-align: right;\n",
       "    }\n",
       "</style>\n",
       "<table border=\"1\" class=\"dataframe\">\n",
       "  <thead>\n",
       "    <tr style=\"text-align: right;\">\n",
       "      <th></th>\n",
       "      <th>CustomerId</th>\n",
       "      <th>FirstName</th>\n",
       "      <th>Email</th>\n",
       "      <th>NumInvoices</th>\n",
       "    </tr>\n",
       "  </thead>\n",
       "  <tbody>\n",
       "    <tr>\n",
       "      <th>0</th>\n",
       "      <td>1</td>\n",
       "      <td>Luís</td>\n",
       "      <td>luisg@embraer.com.br</td>\n",
       "      <td>7</td>\n",
       "    </tr>\n",
       "    <tr>\n",
       "      <th>1</th>\n",
       "      <td>2</td>\n",
       "      <td>Leonie</td>\n",
       "      <td>leonekohler@surfeu.de</td>\n",
       "      <td>7</td>\n",
       "    </tr>\n",
       "    <tr>\n",
       "      <th>2</th>\n",
       "      <td>3</td>\n",
       "      <td>François</td>\n",
       "      <td>ftremblay@gmail.com</td>\n",
       "      <td>7</td>\n",
       "    </tr>\n",
       "    <tr>\n",
       "      <th>3</th>\n",
       "      <td>4</td>\n",
       "      <td>Bjørn</td>\n",
       "      <td>bjorn.hansen@yahoo.no</td>\n",
       "      <td>7</td>\n",
       "    </tr>\n",
       "    <tr>\n",
       "      <th>4</th>\n",
       "      <td>5</td>\n",
       "      <td>František</td>\n",
       "      <td>frantisekw@jetbrains.com</td>\n",
       "      <td>7</td>\n",
       "    </tr>\n",
       "    <tr>\n",
       "      <th>5</th>\n",
       "      <td>6</td>\n",
       "      <td>Helena</td>\n",
       "      <td>hholy@gmail.com</td>\n",
       "      <td>7</td>\n",
       "    </tr>\n",
       "    <tr>\n",
       "      <th>6</th>\n",
       "      <td>7</td>\n",
       "      <td>Astrid</td>\n",
       "      <td>astrid.gruber@apple.at</td>\n",
       "      <td>7</td>\n",
       "    </tr>\n",
       "    <tr>\n",
       "      <th>7</th>\n",
       "      <td>8</td>\n",
       "      <td>Daan</td>\n",
       "      <td>daan_peeters@apple.be</td>\n",
       "      <td>7</td>\n",
       "    </tr>\n",
       "    <tr>\n",
       "      <th>8</th>\n",
       "      <td>9</td>\n",
       "      <td>Kara</td>\n",
       "      <td>kara.nielsen@jubii.dk</td>\n",
       "      <td>7</td>\n",
       "    </tr>\n",
       "    <tr>\n",
       "      <th>9</th>\n",
       "      <td>10</td>\n",
       "      <td>Eduardo</td>\n",
       "      <td>eduardo@woodstock.com.br</td>\n",
       "      <td>7</td>\n",
       "    </tr>\n",
       "  </tbody>\n",
       "</table>\n",
       "</div>"
      ],
      "text/plain": [
       "   CustomerId  FirstName                     Email  NumInvoices\n",
       "0           1       Luís      luisg@embraer.com.br            7\n",
       "1           2     Leonie     leonekohler@surfeu.de            7\n",
       "2           3   François       ftremblay@gmail.com            7\n",
       "3           4      Bjørn     bjorn.hansen@yahoo.no            7\n",
       "4           5  František  frantisekw@jetbrains.com            7\n",
       "5           6     Helena           hholy@gmail.com            7\n",
       "6           7     Astrid    astrid.gruber@apple.at            7\n",
       "7           8       Daan     daan_peeters@apple.be            7\n",
       "8           9       Kara     kara.nielsen@jubii.dk            7\n",
       "9          10    Eduardo  eduardo@woodstock.com.br            7"
      ]
     },
     "metadata": {},
     "output_type": "display_data"
    },
    {
     "name": "stdout",
     "output_type": "stream",
     "text": [
      "Shape: (59, 4)\n"
     ]
    }
   ],
   "source": [
    "command = \"\"\"\n",
    "SELECT C.CustomerId, C.FirstName, C.Email, COUNT(I.InvoiceId) AS NumInvoices\n",
    "FROM Customer AS C\n",
    "LEFT JOIN Invoice AS I ON C.CustomerId = I.CustomerId\n",
    "GROUP BY C.CustomerId\n",
    "\"\"\"\n",
    "\n",
    "show_sql_query(command)"
   ]
  },
  {
   "cell_type": "markdown",
   "metadata": {},
   "source": [
    "3. Retrieve the track name, album, artistID, and trackID for all the albums."
   ]
  },
  {
   "cell_type": "code",
   "execution_count": 7,
   "metadata": {},
   "outputs": [
    {
     "data": {
      "text/html": [
       "<div>\n",
       "<style scoped>\n",
       "    .dataframe tbody tr th:only-of-type {\n",
       "        vertical-align: middle;\n",
       "    }\n",
       "\n",
       "    .dataframe tbody tr th {\n",
       "        vertical-align: top;\n",
       "    }\n",
       "\n",
       "    .dataframe thead th {\n",
       "        text-align: right;\n",
       "    }\n",
       "</style>\n",
       "<table border=\"1\" class=\"dataframe\">\n",
       "  <thead>\n",
       "    <tr style=\"text-align: right;\">\n",
       "      <th></th>\n",
       "      <th>Album</th>\n",
       "      <th>TrackId</th>\n",
       "      <th>Name</th>\n",
       "      <th>Artist</th>\n",
       "    </tr>\n",
       "  </thead>\n",
       "  <tbody>\n",
       "    <tr>\n",
       "      <th>0</th>\n",
       "      <td>For Those About To Rock We Salute You</td>\n",
       "      <td>1</td>\n",
       "      <td>For Those About To Rock (We Salute You)</td>\n",
       "      <td>AC/DC</td>\n",
       "    </tr>\n",
       "    <tr>\n",
       "      <th>1</th>\n",
       "      <td>For Those About To Rock We Salute You</td>\n",
       "      <td>6</td>\n",
       "      <td>Put The Finger On You</td>\n",
       "      <td>AC/DC</td>\n",
       "    </tr>\n",
       "    <tr>\n",
       "      <th>2</th>\n",
       "      <td>For Those About To Rock We Salute You</td>\n",
       "      <td>7</td>\n",
       "      <td>Let's Get It Up</td>\n",
       "      <td>AC/DC</td>\n",
       "    </tr>\n",
       "    <tr>\n",
       "      <th>3</th>\n",
       "      <td>For Those About To Rock We Salute You</td>\n",
       "      <td>8</td>\n",
       "      <td>Inject The Venom</td>\n",
       "      <td>AC/DC</td>\n",
       "    </tr>\n",
       "    <tr>\n",
       "      <th>4</th>\n",
       "      <td>For Those About To Rock We Salute You</td>\n",
       "      <td>9</td>\n",
       "      <td>Snowballed</td>\n",
       "      <td>AC/DC</td>\n",
       "    </tr>\n",
       "    <tr>\n",
       "      <th>5</th>\n",
       "      <td>For Those About To Rock We Salute You</td>\n",
       "      <td>10</td>\n",
       "      <td>Evil Walks</td>\n",
       "      <td>AC/DC</td>\n",
       "    </tr>\n",
       "    <tr>\n",
       "      <th>6</th>\n",
       "      <td>For Those About To Rock We Salute You</td>\n",
       "      <td>11</td>\n",
       "      <td>C.O.D.</td>\n",
       "      <td>AC/DC</td>\n",
       "    </tr>\n",
       "    <tr>\n",
       "      <th>7</th>\n",
       "      <td>For Those About To Rock We Salute You</td>\n",
       "      <td>12</td>\n",
       "      <td>Breaking The Rules</td>\n",
       "      <td>AC/DC</td>\n",
       "    </tr>\n",
       "    <tr>\n",
       "      <th>8</th>\n",
       "      <td>For Those About To Rock We Salute You</td>\n",
       "      <td>13</td>\n",
       "      <td>Night Of The Long Knives</td>\n",
       "      <td>AC/DC</td>\n",
       "    </tr>\n",
       "    <tr>\n",
       "      <th>9</th>\n",
       "      <td>For Those About To Rock We Salute You</td>\n",
       "      <td>14</td>\n",
       "      <td>Spellbound</td>\n",
       "      <td>AC/DC</td>\n",
       "    </tr>\n",
       "  </tbody>\n",
       "</table>\n",
       "</div>"
      ],
      "text/plain": [
       "                                   Album  TrackId  \\\n",
       "0  For Those About To Rock We Salute You        1   \n",
       "1  For Those About To Rock We Salute You        6   \n",
       "2  For Those About To Rock We Salute You        7   \n",
       "3  For Those About To Rock We Salute You        8   \n",
       "4  For Those About To Rock We Salute You        9   \n",
       "5  For Those About To Rock We Salute You       10   \n",
       "6  For Those About To Rock We Salute You       11   \n",
       "7  For Those About To Rock We Salute You       12   \n",
       "8  For Those About To Rock We Salute You       13   \n",
       "9  For Those About To Rock We Salute You       14   \n",
       "\n",
       "                                      Name Artist  \n",
       "0  For Those About To Rock (We Salute You)  AC/DC  \n",
       "1                    Put The Finger On You  AC/DC  \n",
       "2                          Let's Get It Up  AC/DC  \n",
       "3                         Inject The Venom  AC/DC  \n",
       "4                               Snowballed  AC/DC  \n",
       "5                               Evil Walks  AC/DC  \n",
       "6                                   C.O.D.  AC/DC  \n",
       "7                       Breaking The Rules  AC/DC  \n",
       "8                 Night Of The Long Knives  AC/DC  \n",
       "9                               Spellbound  AC/DC  "
      ]
     },
     "metadata": {},
     "output_type": "display_data"
    },
    {
     "name": "stdout",
     "output_type": "stream",
     "text": [
      "Shape: (3503, 4)\n"
     ]
    }
   ],
   "source": [
    "command = \"\"\"\n",
    "SELECT A.Title AS Album, T.TrackId, T.Name, R.Name AS Artist\n",
    "FROM Album AS A\n",
    "LEFT JOIN Track AS T ON A.AlbumId = T.AlbumId\n",
    "LEFT JOIN Artist AS R ON A.ArtistId = R.ArtistId\n",
    "\"\"\"\n",
    "\n",
    "show_sql_query(command)"
   ]
  },
  {
   "cell_type": "markdown",
   "metadata": {},
   "source": [
    "4. Retrieve a list with the managers last name, and the last name of the employees who report to him or her."
   ]
  },
  {
   "cell_type": "code",
   "execution_count": 8,
   "metadata": {},
   "outputs": [
    {
     "data": {
      "text/html": [
       "<div>\n",
       "<style scoped>\n",
       "    .dataframe tbody tr th:only-of-type {\n",
       "        vertical-align: middle;\n",
       "    }\n",
       "\n",
       "    .dataframe tbody tr th {\n",
       "        vertical-align: top;\n",
       "    }\n",
       "\n",
       "    .dataframe thead th {\n",
       "        text-align: right;\n",
       "    }\n",
       "</style>\n",
       "<table border=\"1\" class=\"dataframe\">\n",
       "  <thead>\n",
       "    <tr style=\"text-align: right;\">\n",
       "      <th></th>\n",
       "      <th>Employee</th>\n",
       "      <th>ReportsToName</th>\n",
       "    </tr>\n",
       "  </thead>\n",
       "  <tbody>\n",
       "    <tr>\n",
       "      <th>0</th>\n",
       "      <td>Adams</td>\n",
       "      <td>None</td>\n",
       "    </tr>\n",
       "    <tr>\n",
       "      <th>1</th>\n",
       "      <td>Edwards</td>\n",
       "      <td>Adams</td>\n",
       "    </tr>\n",
       "    <tr>\n",
       "      <th>2</th>\n",
       "      <td>Peacock</td>\n",
       "      <td>Edwards</td>\n",
       "    </tr>\n",
       "    <tr>\n",
       "      <th>3</th>\n",
       "      <td>Park</td>\n",
       "      <td>Edwards</td>\n",
       "    </tr>\n",
       "    <tr>\n",
       "      <th>4</th>\n",
       "      <td>Johnson</td>\n",
       "      <td>Edwards</td>\n",
       "    </tr>\n",
       "    <tr>\n",
       "      <th>5</th>\n",
       "      <td>Mitchell</td>\n",
       "      <td>Adams</td>\n",
       "    </tr>\n",
       "    <tr>\n",
       "      <th>6</th>\n",
       "      <td>King</td>\n",
       "      <td>Mitchell</td>\n",
       "    </tr>\n",
       "    <tr>\n",
       "      <th>7</th>\n",
       "      <td>Callahan</td>\n",
       "      <td>Mitchell</td>\n",
       "    </tr>\n",
       "  </tbody>\n",
       "</table>\n",
       "</div>"
      ],
      "text/plain": [
       "   Employee ReportsToName\n",
       "0     Adams          None\n",
       "1   Edwards         Adams\n",
       "2   Peacock       Edwards\n",
       "3      Park       Edwards\n",
       "4   Johnson       Edwards\n",
       "5  Mitchell         Adams\n",
       "6      King      Mitchell\n",
       "7  Callahan      Mitchell"
      ]
     },
     "metadata": {},
     "output_type": "display_data"
    },
    {
     "name": "stdout",
     "output_type": "stream",
     "text": [
      "Shape: (8, 2)\n"
     ]
    }
   ],
   "source": [
    "command = \"\"\"\n",
    "SELECT M.LastName AS Employee, R.LastName AS ReportsToName\n",
    "FROM Employee AS M\n",
    "LEFT JOIN Employee AS R ON M.ReportsTo = R.EmployeeId\n",
    "\"\"\"\n",
    "\n",
    "show_sql_query(command)"
   ]
  },
  {
   "cell_type": "markdown",
   "metadata": {},
   "source": [
    "5. Find the name and ID of the artists who do not have albums. "
   ]
  },
  {
   "cell_type": "code",
   "execution_count": 9,
   "metadata": {},
   "outputs": [
    {
     "data": {
      "text/html": [
       "<div>\n",
       "<style scoped>\n",
       "    .dataframe tbody tr th:only-of-type {\n",
       "        vertical-align: middle;\n",
       "    }\n",
       "\n",
       "    .dataframe tbody tr th {\n",
       "        vertical-align: top;\n",
       "    }\n",
       "\n",
       "    .dataframe thead th {\n",
       "        text-align: right;\n",
       "    }\n",
       "</style>\n",
       "<table border=\"1\" class=\"dataframe\">\n",
       "  <thead>\n",
       "    <tr style=\"text-align: right;\">\n",
       "      <th></th>\n",
       "      <th>Artist</th>\n",
       "      <th>ArtistId</th>\n",
       "      <th>Album</th>\n",
       "    </tr>\n",
       "  </thead>\n",
       "  <tbody>\n",
       "    <tr>\n",
       "      <th>0</th>\n",
       "      <td>Milton Nascimento &amp; Bebeto</td>\n",
       "      <td>25</td>\n",
       "      <td>None</td>\n",
       "    </tr>\n",
       "    <tr>\n",
       "      <th>1</th>\n",
       "      <td>Azymuth</td>\n",
       "      <td>26</td>\n",
       "      <td>None</td>\n",
       "    </tr>\n",
       "    <tr>\n",
       "      <th>2</th>\n",
       "      <td>João Gilberto</td>\n",
       "      <td>28</td>\n",
       "      <td>None</td>\n",
       "    </tr>\n",
       "    <tr>\n",
       "      <th>3</th>\n",
       "      <td>Bebel Gilberto</td>\n",
       "      <td>29</td>\n",
       "      <td>None</td>\n",
       "    </tr>\n",
       "    <tr>\n",
       "      <th>4</th>\n",
       "      <td>Jorge Vercilo</td>\n",
       "      <td>30</td>\n",
       "      <td>None</td>\n",
       "    </tr>\n",
       "    <tr>\n",
       "      <th>5</th>\n",
       "      <td>Baby Consuelo</td>\n",
       "      <td>31</td>\n",
       "      <td>None</td>\n",
       "    </tr>\n",
       "    <tr>\n",
       "      <th>6</th>\n",
       "      <td>Ney Matogrosso</td>\n",
       "      <td>32</td>\n",
       "      <td>None</td>\n",
       "    </tr>\n",
       "    <tr>\n",
       "      <th>7</th>\n",
       "      <td>Luiz Melodia</td>\n",
       "      <td>33</td>\n",
       "      <td>None</td>\n",
       "    </tr>\n",
       "    <tr>\n",
       "      <th>8</th>\n",
       "      <td>Nando Reis</td>\n",
       "      <td>34</td>\n",
       "      <td>None</td>\n",
       "    </tr>\n",
       "    <tr>\n",
       "      <th>9</th>\n",
       "      <td>Pedro Luís &amp; A Parede</td>\n",
       "      <td>35</td>\n",
       "      <td>None</td>\n",
       "    </tr>\n",
       "  </tbody>\n",
       "</table>\n",
       "</div>"
      ],
      "text/plain": [
       "                       Artist  ArtistId Album\n",
       "0  Milton Nascimento & Bebeto        25  None\n",
       "1                     Azymuth        26  None\n",
       "2               João Gilberto        28  None\n",
       "3              Bebel Gilberto        29  None\n",
       "4               Jorge Vercilo        30  None\n",
       "5               Baby Consuelo        31  None\n",
       "6              Ney Matogrosso        32  None\n",
       "7                Luiz Melodia        33  None\n",
       "8                  Nando Reis        34  None\n",
       "9       Pedro Luís & A Parede        35  None"
      ]
     },
     "metadata": {},
     "output_type": "display_data"
    },
    {
     "name": "stdout",
     "output_type": "stream",
     "text": [
      "Shape: (71, 3)\n"
     ]
    }
   ],
   "source": [
    "command = \"\"\"\n",
    "SELECT ART.Name AS Artist, ART.ArtistId, ALB.Title AS Album\n",
    "FROM Artist AS ART\n",
    "LEFT JOIN Album AS ALB ON ART.ArtistId = ALB.ArtistId\n",
    "WHERE ALB.Title IS NULL\n",
    "\"\"\"\n",
    "\n",
    "show_sql_query(command)"
   ]
  },
  {
   "cell_type": "markdown",
   "metadata": {},
   "source": [
    "6. Use a UNION to create a list of all the employee's and customer's first names and last names ordered by the last name in descending order."
   ]
  },
  {
   "cell_type": "code",
   "execution_count": 13,
   "metadata": {},
   "outputs": [
    {
     "data": {
      "text/html": [
       "<div>\n",
       "<style scoped>\n",
       "    .dataframe tbody tr th:only-of-type {\n",
       "        vertical-align: middle;\n",
       "    }\n",
       "\n",
       "    .dataframe tbody tr th {\n",
       "        vertical-align: top;\n",
       "    }\n",
       "\n",
       "    .dataframe thead th {\n",
       "        text-align: right;\n",
       "    }\n",
       "</style>\n",
       "<table border=\"1\" class=\"dataframe\">\n",
       "  <thead>\n",
       "    <tr style=\"text-align: right;\">\n",
       "      <th></th>\n",
       "      <th>FirstName</th>\n",
       "      <th>LastName</th>\n",
       "    </tr>\n",
       "  </thead>\n",
       "  <tbody>\n",
       "    <tr>\n",
       "      <th>0</th>\n",
       "      <td>Fynn</td>\n",
       "      <td>Zimmermann</td>\n",
       "    </tr>\n",
       "    <tr>\n",
       "      <th>1</th>\n",
       "      <td>Stanisław</td>\n",
       "      <td>Wójcik</td>\n",
       "    </tr>\n",
       "    <tr>\n",
       "      <th>2</th>\n",
       "      <td>František</td>\n",
       "      <td>Wichterlová</td>\n",
       "    </tr>\n",
       "    <tr>\n",
       "      <th>3</th>\n",
       "      <td>Johannes</td>\n",
       "      <td>Van der Berg</td>\n",
       "    </tr>\n",
       "    <tr>\n",
       "      <th>4</th>\n",
       "      <td>François</td>\n",
       "      <td>Tremblay</td>\n",
       "    </tr>\n",
       "    <tr>\n",
       "      <th>5</th>\n",
       "      <td>Mark</td>\n",
       "      <td>Taylor</td>\n",
       "    </tr>\n",
       "    <tr>\n",
       "      <th>6</th>\n",
       "      <td>Ellie</td>\n",
       "      <td>Sullivan</td>\n",
       "    </tr>\n",
       "    <tr>\n",
       "      <th>7</th>\n",
       "      <td>Victor</td>\n",
       "      <td>Stevens</td>\n",
       "    </tr>\n",
       "    <tr>\n",
       "      <th>8</th>\n",
       "      <td>Puja</td>\n",
       "      <td>Srivastava</td>\n",
       "    </tr>\n",
       "    <tr>\n",
       "      <th>9</th>\n",
       "      <td>Jack</td>\n",
       "      <td>Smith</td>\n",
       "    </tr>\n",
       "  </tbody>\n",
       "</table>\n",
       "</div>"
      ],
      "text/plain": [
       "   FirstName      LastName\n",
       "0       Fynn    Zimmermann\n",
       "1  Stanisław        Wójcik\n",
       "2  František   Wichterlová\n",
       "3   Johannes  Van der Berg\n",
       "4   François      Tremblay\n",
       "5       Mark        Taylor\n",
       "6      Ellie      Sullivan\n",
       "7     Victor       Stevens\n",
       "8       Puja    Srivastava\n",
       "9       Jack         Smith"
      ]
     },
     "metadata": {},
     "output_type": "display_data"
    },
    {
     "name": "stdout",
     "output_type": "stream",
     "text": [
      "Shape: (67, 2)\n"
     ]
    }
   ],
   "source": [
    "command = \"\"\"\n",
    "SELECT FirstName, LastName\n",
    "FROM Customer\n",
    "UNION\n",
    "SELECT FirstName, LastName\n",
    "FROM Employee\n",
    "ORDER BY LastName DESC;\n",
    "\"\"\"\n",
    "\n",
    "show_sql_query(command)"
   ]
  },
  {
   "cell_type": "markdown",
   "metadata": {},
   "source": [
    "7. See if there are any customers who have a different city listed in their billing city versus their customer city."
   ]
  },
  {
   "cell_type": "code",
   "execution_count": 16,
   "metadata": {},
   "outputs": [
    {
     "data": {
      "text/html": [
       "<div>\n",
       "<style scoped>\n",
       "    .dataframe tbody tr th:only-of-type {\n",
       "        vertical-align: middle;\n",
       "    }\n",
       "\n",
       "    .dataframe tbody tr th {\n",
       "        vertical-align: top;\n",
       "    }\n",
       "\n",
       "    .dataframe thead th {\n",
       "        text-align: right;\n",
       "    }\n",
       "</style>\n",
       "<table border=\"1\" class=\"dataframe\">\n",
       "  <thead>\n",
       "    <tr style=\"text-align: right;\">\n",
       "      <th></th>\n",
       "      <th>FirstName</th>\n",
       "      <th>LastName</th>\n",
       "      <th>City</th>\n",
       "      <th>BillingCity</th>\n",
       "    </tr>\n",
       "  </thead>\n",
       "  <tbody>\n",
       "  </tbody>\n",
       "</table>\n",
       "</div>"
      ],
      "text/plain": [
       "Empty DataFrame\n",
       "Columns: [FirstName, LastName, City, BillingCity]\n",
       "Index: []"
      ]
     },
     "metadata": {},
     "output_type": "display_data"
    },
    {
     "name": "stdout",
     "output_type": "stream",
     "text": [
      "Shape: (0, 4)\n"
     ]
    }
   ],
   "source": [
    "command = \"\"\"\n",
    "SELECT C.FirstName, C.LastName, C.City, I.BillingCity\n",
    "FROM Customer AS C\n",
    "INNER JOIN invoice AS I ON C.CustomerId = I.CustomerId\n",
    "WHERE C.City != I.BillingCity\n",
    "\"\"\"\n",
    "\n",
    "show_sql_query(command)"
   ]
  }
 ],
 "metadata": {
  "kernelspec": {
   "display_name": "Python 3.9.7 ('ai-env')",
   "language": "python",
   "name": "python3"
  },
  "language_info": {
   "codemirror_mode": {
    "name": "ipython",
    "version": 3
   },
   "file_extension": ".py",
   "mimetype": "text/x-python",
   "name": "python",
   "nbconvert_exporter": "python",
   "pygments_lexer": "ipython3",
   "version": "3.9.7"
  },
  "orig_nbformat": 4,
  "vscode": {
   "interpreter": {
    "hash": "d372cf159c702d88e76d61195e98430beac9dd3af1b06e023fe96d56fc46f6da"
   }
  }
 },
 "nbformat": 4,
 "nbformat_minor": 2
}
